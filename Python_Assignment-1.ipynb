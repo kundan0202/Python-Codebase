{
 "cells": [
  {
   "cell_type": "code",
   "execution_count": 2,
   "metadata": {},
   "outputs": [
    {
     "name": "stdout",
     "output_type": "stream",
     "text": [
      "['SAS', 'R', 'PYTHON', 'SPSS']\n"
     ]
    }
   ],
   "source": [
    "# Problem-1:List_remove_append\n",
    "\n",
    "input_list=['SAS', 'R', 'PYTHON', 'SPSS']\n",
    "print(input_list)"
   ]
  },
  {
   "cell_type": "code",
   "execution_count": 4,
   "metadata": {},
   "outputs": [
    {
     "name": "stdout",
     "output_type": "stream",
     "text": [
      "['SAS', 'R', 'PYTHON', 'SPARK']\n"
     ]
    }
   ],
   "source": [
    "#Solution\n",
    "\n",
    "input_list[3]='SPARK'\n",
    "print(input_list)"
   ]
  },
  {
   "cell_type": "code",
   "execution_count": 7,
   "metadata": {},
   "outputs": [
    {
     "name": "stdout",
     "output_type": "stream",
     "text": [
      "I love Data Science & Python\n"
     ]
    }
   ],
   "source": [
    "# Problem-2:String to List Conversion using split at &\n",
    "\n",
    "input_str = 'I love Data Science & Python'\n",
    "print(input_str)"
   ]
  },
  {
   "cell_type": "code",
   "execution_count": 12,
   "metadata": {},
   "outputs": [
    {
     "data": {
      "text/plain": [
       "['I love Data Science ', ' Python']"
      ]
     },
     "execution_count": 12,
     "metadata": {},
     "output_type": "execute_result"
    }
   ],
   "source": [
    "# Solution\n",
    "input_str.split(\"&\")"
   ]
  },
  {
   "cell_type": "code",
   "execution_count": 13,
   "metadata": {},
   "outputs": [
    {
     "data": {
      "text/plain": [
       "['Pythons syntax is easy to learn', 'Pythons syntax is very clear']"
      ]
     },
     "execution_count": 13,
     "metadata": {},
     "output_type": "execute_result"
    }
   ],
   "source": [
    "# Problem-3: List to String Conversion\n",
    "\n",
    "list=['Pythons syntax is easy to learn', 'Pythons syntax is very clear']\n",
    "list"
   ]
  },
  {
   "cell_type": "code",
   "execution_count": 16,
   "metadata": {},
   "outputs": [
    {
     "name": "stdout",
     "output_type": "stream",
     "text": [
      "Pythons syntax is easy to learn & Pythons syntax is very clear\n"
     ]
    }
   ],
   "source": [
    "#Solution\n",
    "\n",
    "str=' & '.join(list)\n",
    "print(str)"
   ]
  },
  {
   "cell_type": "code",
   "execution_count": 17,
   "metadata": {},
   "outputs": [
    {
     "data": {
      "text/plain": [
       "[['SAS', 'R'], ['Tableau', 'SQL'], ['Python', 'Java']]"
      ]
     },
     "execution_count": 17,
     "metadata": {},
     "output_type": "execute_result"
    }
   ],
   "source": [
    "# Problem-4 : Extract Python from a nested list\n",
    "\n",
    "input_list = [['SAS','R'],['Tableau','SQL'],['Python','Java']]\n",
    "input_list"
   ]
  },
  {
   "cell_type": "code",
   "execution_count": 23,
   "metadata": {},
   "outputs": [
    {
     "name": "stdout",
     "output_type": "stream",
     "text": [
      "['Python', 'Java']\n",
      "Extracted from list:-Python\n"
     ]
    }
   ],
   "source": [
    "# Solution\n",
    "print(input_list[2])\n",
    "print('Extracted from list:-'+input_list[2][0])"
   ]
  },
  {
   "cell_type": "code",
   "execution_count": 27,
   "metadata": {},
   "outputs": [
    {
     "name": "stdout",
     "output_type": "stream",
     "text": [
      "output :  s\n"
     ]
    }
   ],
   "source": [
    "# Problem-5 :'It’s the time to disco'\n",
    "t = (\"disco\", 12, 4.5)\n",
    "\n",
    "#Solution\n",
    "print('output :  '+t[0][2])"
   ]
  },
  {
   "cell_type": "code",
   "execution_count": 37,
   "metadata": {},
   "outputs": [
    {
     "name": "stdout",
     "output_type": "stream",
     "text": [
      "Enter string:-RADAR\n",
      "1\n"
     ]
    }
   ],
   "source": [
    "# Problem-6 :string is a palindrome or not--Output: 1 if the string is palindrome, 0 otherwise\n",
    "\n",
    "# Solution\n",
    "\n",
    "Give_input=input(\"Enter string:-\")\n",
    "if(Give_input==Give_input[::-1]):\n",
    "    print(\"1\")\n",
    "else:\n",
    "    print(\"0\")"
   ]
  },
  {
   "cell_type": "code",
   "execution_count": 6,
   "metadata": {},
   "outputs": [
    {
     "name": "stdout",
     "output_type": "stream",
     "text": [
      "original string : hello python\n",
      "Reversed string:  nohtyp olleh\n"
     ]
    }
   ],
   "source": [
    "# Problem-7:Reverse string\n",
    "\n",
    "str=\"hello python\"\n",
    "print(\"original string : \"+str)\n",
    "\n",
    "#Solution using slicing\n",
    "\n",
    "rev_str=str[::-1]\n",
    "print(\"Reversed string:  \"+rev_str)"
   ]
  },
  {
   "cell_type": "code",
   "execution_count": 10,
   "metadata": {},
   "outputs": [
    {
     "name": "stdout",
     "output_type": "stream",
     "text": [
      "input1 : caloRie ConsuMed\n",
      "output1 : calorie_consumed\n",
      "---------or--------------\n",
      "['caloRie', 'ConsuMed']\n",
      "output1 :calorie_consumed\n",
      "input2 : data science\n",
      "output2 : data_science\n",
      "input3 : datascience\n",
      "output3 : d a t a s c i e n c e\n"
     ]
    }
   ],
   "source": [
    "# Problem-8 : String Formatting\n",
    "# Input 1: caloRie ConsuMed\n",
    "# Output 1: calorie_consumed\n",
    "\n",
    "input1='caloRie ConsuMed'\n",
    "print('input1 : '+input1)\n",
    "output1=input1.replace(' ','_').lower()\n",
    "print('output1 : '+output1)\n",
    "\n",
    "print(\"---------or--------------\")\n",
    "\n",
    "x=input1.split(' ')\n",
    "print(x)\n",
    "\n",
    "y='_'.join(x).lower()\n",
    "print('output1 :'+y)\n",
    "\n",
    "\n",
    "# Input 2: data science\n",
    "# Output 2: data_science\n",
    "\n",
    "input2='data science'\n",
    "print('input2 : '+input2)\n",
    "output2=input2.replace(' ','_')\n",
    "print('output2 : '+output2)\n",
    "\n",
    "\n",
    "# Input 3: datascience\n",
    "# Output 3: data science\n",
    "input3='datascience'\n",
    "print('input3 : '+input3)\n",
    "output3=(\" \".join(input3))\n",
    "print('output3 : '+output3)\n"
   ]
  },
  {
   "cell_type": "code",
   "execution_count": 11,
   "metadata": {},
   "outputs": [],
   "source": [
    "# Multiple Choice Questions"
   ]
  },
  {
   "cell_type": "code",
   "execution_count": 21,
   "metadata": {},
   "outputs": [
    {
     "name": "stdout",
     "output_type": "stream",
     "text": [
      "I love Python\n",
      "love\n",
      "love\n"
     ]
    }
   ],
   "source": [
    "#MCQ-1: Extract ‘love’ from the string S = “I love Python”\n",
    "S='I love Python'\n",
    "print(S)\n",
    "\n",
    "# Solution == Option (b,e)\n",
    "Result1=S[2:6]\n",
    "print(Result1)\n",
    "\n",
    "Result2=S[-11:-7]\n",
    "print(Result2)\n",
    "\n",
    "\n"
   ]
  },
  {
   "cell_type": "code",
   "execution_count": 23,
   "metadata": {},
   "outputs": [
    {
     "name": "stdout",
     "output_type": "stream",
     "text": [
      "81\n"
     ]
    }
   ],
   "source": [
    "#MCQ-3: What will the output of 3 * 3 ** 3 be?\n",
    "\n",
    "#Solution == Option c\n",
    "number1=3 * 3 ** 3\n",
    "print(number1)"
   ]
  },
  {
   "cell_type": "code",
   "execution_count": 24,
   "metadata": {},
   "outputs": [
    {
     "name": "stdout",
     "output_type": "stream",
     "text": [
      "1\n"
     ]
    }
   ],
   "source": [
    "# MCQ-4 : What will the output be of ((500//7) % 5) ** 3?\n",
    "\n",
    "#Solution==Option a\n",
    "number2=((500//7) % 5) ** 3\n",
    "print(number2)\n"
   ]
  },
  {
   "cell_type": "code",
   "execution_count": 25,
   "metadata": {},
   "outputs": [
    {
     "ename": "IndentationError",
     "evalue": "unexpected indent (<ipython-input-25-4cbb07ee7a96>, line 2)",
     "output_type": "error",
     "traceback": [
      "\u001b[1;36m  File \u001b[1;32m\"<ipython-input-25-4cbb07ee7a96>\"\u001b[1;36m, line \u001b[1;32m2\u001b[0m\n\u001b[1;33m    T = (3, 5, 7, 11),\u001b[0m\n\u001b[1;37m    ^\u001b[0m\n\u001b[1;31mIndentationError\u001b[0m\u001b[1;31m:\u001b[0m unexpected indent\n"
     ]
    }
   ],
   "source": [
    "# MCQ-5:If you have a tuple T = (3, 5, 7, 11), what will the output of T.append(9) be?\n",
    "\n",
    "Solution: Option d=Error as Tuple is immutable\n",
    " T = (3, 5, 7, 11),\n",
    "T.append(9) "
   ]
  },
  {
   "cell_type": "code",
   "execution_count": 27,
   "metadata": {},
   "outputs": [
    {
     "ename": "NameError",
     "evalue": "name 'l4' is not defined",
     "output_type": "error",
     "traceback": [
      "\u001b[1;31m---------------------------------------------------------------------------\u001b[0m",
      "\u001b[1;31mNameError\u001b[0m                                 Traceback (most recent call last)",
      "\u001b[1;32m<ipython-input-27-89544c378936>\u001b[0m in \u001b[0;36m<module>\u001b[1;34m\u001b[0m\n\u001b[0;32m      1\u001b[0m \u001b[1;31m# Given:\u001b[0m\u001b[1;33m\u001b[0m\u001b[1;33m\u001b[0m\u001b[1;33m\u001b[0m\u001b[0m\n\u001b[0;32m      2\u001b[0m \u001b[0ml\u001b[0m \u001b[1;33m=\u001b[0m \u001b[1;33m[\u001b[0m\u001b[1;36m32\u001b[0m\u001b[1;33m,\u001b[0m \u001b[1;36m34\u001b[0m\u001b[1;33m,\u001b[0m \u001b[1;36m12\u001b[0m\u001b[1;33m,\u001b[0m \u001b[1;36m27\u001b[0m\u001b[1;33m,\u001b[0m \u001b[1;36m33\u001b[0m\u001b[1;33m]\u001b[0m\u001b[1;33m\u001b[0m\u001b[1;33m\u001b[0m\u001b[0m\n\u001b[1;32m----> 3\u001b[1;33m \u001b[0ml\u001b[0m\u001b[1;33m.\u001b[0m\u001b[0mappend\u001b[0m\u001b[1;33m(\u001b[0m\u001b[1;33m(\u001b[0m\u001b[0ml4\u001b[0m\u001b[1;33m,\u001b[0m \u001b[1;36m19\u001b[0m\u001b[1;33m)\u001b[0m\u001b[1;33m)\u001b[0m\u001b[1;33m\u001b[0m\u001b[1;33m\u001b[0m\u001b[0m\n\u001b[0m\u001b[0;32m      4\u001b[0m \u001b[0mprint\u001b[0m\u001b[1;33m(\u001b[0m\u001b[0mlen\u001b[0m\u001b[1;33m(\u001b[0m\u001b[0ml\u001b[0m\u001b[1;33m)\u001b[0m\u001b[1;33m)\u001b[0m\u001b[1;33m\u001b[0m\u001b[1;33m\u001b[0m\u001b[0m\n",
      "\u001b[1;31mNameError\u001b[0m: name 'l4' is not defined"
     ]
    }
   ],
   "source": [
    "# MCQ-6:Given:\n",
    "l = [32, 34, 12, 27, 33]\n",
    "l.append((l4, 19))\n",
    "print(len(l))\n",
    "\n",
    "# Solution: Option d"
   ]
  },
  {
   "cell_type": "code",
   "execution_count": 28,
   "metadata": {},
   "outputs": [],
   "source": [
    "# Which of the following statements is incorrect regarding sets in Python?\n",
    "# a. Sets do not contain duplicate elements\n",
    "# b. Sets are represented using curly braces {}\n",
    "# c. Sets are immutable\n",
    "# d. All of the above\n",
    "\n",
    "# Solution:b\n",
    "\n",
    "#Set = unordered collection ,unique(No duplicates),mutable,allow only one null element & represented using ()\n",
    "#List= ordered collection,allow duplicates,mutable,can have multiple null elements & represented using []\n",
    "#Tuple= immutable\n",
    "\n",
    "#List vs Tuple\n",
    "# Tuple is stored in a single block of memory. \n",
    "# Creating a tuple is faster than creating a list. \n",
    "# Creating a list is slower because two memory blocks need to be accessed.\n"
   ]
  },
  {
   "cell_type": "code",
   "execution_count": 39,
   "metadata": {},
   "outputs": [
    {
     "name": "stdout",
     "output_type": "stream",
     "text": [
      "1\n",
      "2\n",
      "3\n"
     ]
    }
   ],
   "source": [
    "#MCQ-8: Dictionary\n",
    "D = {1:['Raj', 22], 2:['Simran', 21], 3:['Rahul', 40]}\n",
    "type(D)\n",
    "\n",
    "#Solution -Option a\n",
    "for val in D:\n",
    "    print(val)"
   ]
  },
  {
   "cell_type": "code",
   "execution_count": 3,
   "metadata": {},
   "outputs": [],
   "source": [
    "#MCQ-9:for sentence in paragraph:\n",
    "# paragraph='comprehension equivalent'\n",
    "\n",
    "# for sentence in paragraph:\n",
    "#     for word in sentence.split():\n",
    "#         word.append(word)\n",
    "        \n",
    " # Ans - Option d"
   ]
  },
  {
   "cell_type": "code",
   "execution_count": 50,
   "metadata": {},
   "outputs": [
    {
     "name": "stdout",
     "output_type": "stream",
     "text": [
      "[10, 9, 8, 7, 6, 5, 4, 3, 2]\n"
     ]
    }
   ],
   "source": [
    "# MCQ-10 \n",
    "print(list(range(10,1,-1)))\n",
    "\n",
    "# Solution: Option d"
   ]
  },
  {
   "cell_type": "code",
   "execution_count": null,
   "metadata": {},
   "outputs": [],
   "source": []
  }
 ],
 "metadata": {
  "kernelspec": {
   "display_name": "Python 3",
   "language": "python",
   "name": "python3"
  },
  "language_info": {
   "codemirror_mode": {
    "name": "ipython",
    "version": 3
   },
   "file_extension": ".py",
   "mimetype": "text/x-python",
   "name": "python",
   "nbconvert_exporter": "python",
   "pygments_lexer": "ipython3",
   "version": "3.7.6"
  }
 },
 "nbformat": 4,
 "nbformat_minor": 4
}
